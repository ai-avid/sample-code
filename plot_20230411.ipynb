{
 "cells": [
  {
   "cell_type": "code",
   "execution_count": null,
   "id": "3503fdd7",
   "metadata": {},
   "outputs": [],
   "source": [
    "import pandas as pd\n",
    "import matplotlib.pyplot as plt\n",
    "\n",
    "# Assuming your data is in a CSV file called 'data.csv'\n",
    "data = pd.read_csv('data.csv')\n",
    "\n",
    "# Convert the 'date' column to datetime format\n",
    "data['date'] = pd.to_datetime(data['date'])\n",
    "\n",
    "# Create a list of unique segments\n",
    "segments = data['segment'].unique()\n",
    "\n",
    "# Create a line plot of sales1 and sales2 by date for each segment\n",
    "for segment in segments:\n",
    "    segment_data = data[data['segment'] == segment]\n",
    "    \n",
    "    plt.figure(figsize=(10, 5))  # Adjust the plot size (optional)\n",
    "    \n",
    "    plt.plot(segment_data['date'], segment_data['sales1'], label='Sales1')\n",
    "    plt.plot(segment_data['date'], segment_data['sales2'], label='Sales2')\n",
    "    \n",
    "    # Set the plot labels and title\n",
    "    plt.xlabel('Date')\n",
    "    plt.ylabel('Sales')\n",
    "    plt.title(f'Sales1 and Sales2 by Date for Segment {segment}')\n",
    "    \n",
    "    # Add the legend and show the plot\n",
    "    plt.legend()\n",
    "    plt.show()\n"
   ]
  }
 ],
 "metadata": {
  "kernelspec": {
   "display_name": "Python 3 (ipykernel)",
   "language": "python",
   "name": "python3"
  },
  "language_info": {
   "codemirror_mode": {
    "name": "ipython",
    "version": 3
   },
   "file_extension": ".py",
   "mimetype": "text/x-python",
   "name": "python",
   "nbconvert_exporter": "python",
   "pygments_lexer": "ipython3",
   "version": "3.9.7"
  }
 },
 "nbformat": 4,
 "nbformat_minor": 5
}
